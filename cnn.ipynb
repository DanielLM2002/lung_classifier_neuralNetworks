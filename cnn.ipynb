{
  "cells": [
    {
      "cell_type": "markdown",
      "metadata": {
        "id": "ogOSSRqaGiUJ"
      },
      "source": [
        "Daniel Lizano Morales C04285\n",
        "\n",
        "Esteban Castañeda Blanco C01795\n",
        "\n",
        "Israel López Vallecillo C04396\n",
        "\n",
        "Ariel Solís"
      ]
    },
    {
      "cell_type": "code",
      "execution_count": 24,
      "metadata": {
        "colab": {
          "base_uri": "https://localhost:8080/"
        },
        "id": "kfloju0T4iA2",
        "outputId": "a736d3a6-4673-4160-f247-e2673e26ad1a"
      },
      "outputs": [
        {
          "name": "stdout",
          "output_type": "stream",
          "text": [
            "Requirement already satisfied: opencv-python-headless in ./.venv/lib/python3.11/site-packages (4.9.0.80)\n",
            "Requirement already satisfied: efficientnet-pytorch in ./.venv/lib/python3.11/site-packages (0.7.1)\n",
            "Requirement already satisfied: wandb in ./.venv/lib/python3.11/site-packages (0.17.0)\n",
            "Requirement already satisfied: tqdm in ./.venv/lib/python3.11/site-packages (4.66.4)\n",
            "Requirement already satisfied: numpy>=1.21.2 in ./.venv/lib/python3.11/site-packages (from opencv-python-headless) (1.26.4)\n",
            "Requirement already satisfied: torch in ./.venv/lib/python3.11/site-packages (from efficientnet-pytorch) (2.3.0)\n",
            "Requirement already satisfied: click!=8.0.0,>=7.1 in ./.venv/lib/python3.11/site-packages (from wandb) (8.1.7)\n",
            "Requirement already satisfied: docker-pycreds>=0.4.0 in ./.venv/lib/python3.11/site-packages (from wandb) (0.4.0)\n",
            "Requirement already satisfied: gitpython!=3.1.29,>=1.0.0 in ./.venv/lib/python3.11/site-packages (from wandb) (3.1.43)\n",
            "Requirement already satisfied: platformdirs in ./.venv/lib/python3.11/site-packages (from wandb) (4.2.2)\n",
            "Requirement already satisfied: protobuf!=4.21.0,<5,>=3.19.0 in ./.venv/lib/python3.11/site-packages (from wandb) (4.25.3)\n",
            "Requirement already satisfied: psutil>=5.0.0 in ./.venv/lib/python3.11/site-packages (from wandb) (5.9.8)\n",
            "Requirement already satisfied: pyyaml in ./.venv/lib/python3.11/site-packages (from wandb) (6.0.1)\n",
            "Requirement already satisfied: requests<3,>=2.0.0 in ./.venv/lib/python3.11/site-packages (from wandb) (2.32.2)\n",
            "Requirement already satisfied: sentry-sdk>=1.0.0 in ./.venv/lib/python3.11/site-packages (from wandb) (2.2.1)\n",
            "Requirement already satisfied: setproctitle in ./.venv/lib/python3.11/site-packages (from wandb) (1.3.3)\n",
            "Requirement already satisfied: setuptools in ./.venv/lib/python3.11/site-packages (from wandb) (65.5.0)\n",
            "Requirement already satisfied: six>=1.4.0 in ./.venv/lib/python3.11/site-packages (from docker-pycreds>=0.4.0->wandb) (1.16.0)\n",
            "Requirement already satisfied: gitdb<5,>=4.0.1 in ./.venv/lib/python3.11/site-packages (from gitpython!=3.1.29,>=1.0.0->wandb) (4.0.11)\n",
            "Requirement already satisfied: charset-normalizer<4,>=2 in ./.venv/lib/python3.11/site-packages (from requests<3,>=2.0.0->wandb) (3.3.2)\n",
            "Requirement already satisfied: idna<4,>=2.5 in ./.venv/lib/python3.11/site-packages (from requests<3,>=2.0.0->wandb) (3.7)\n",
            "Requirement already satisfied: urllib3<3,>=1.21.1 in ./.venv/lib/python3.11/site-packages (from requests<3,>=2.0.0->wandb) (2.2.1)\n",
            "Requirement already satisfied: certifi>=2017.4.17 in ./.venv/lib/python3.11/site-packages (from requests<3,>=2.0.0->wandb) (2024.2.2)\n",
            "Requirement already satisfied: filelock in ./.venv/lib/python3.11/site-packages (from torch->efficientnet-pytorch) (3.14.0)\n",
            "Requirement already satisfied: typing-extensions>=4.8.0 in ./.venv/lib/python3.11/site-packages (from torch->efficientnet-pytorch) (4.11.0)\n",
            "Requirement already satisfied: sympy in ./.venv/lib/python3.11/site-packages (from torch->efficientnet-pytorch) (1.12)\n",
            "Requirement already satisfied: networkx in ./.venv/lib/python3.11/site-packages (from torch->efficientnet-pytorch) (3.3)\n",
            "Requirement already satisfied: jinja2 in ./.venv/lib/python3.11/site-packages (from torch->efficientnet-pytorch) (3.1.4)\n",
            "Requirement already satisfied: fsspec in ./.venv/lib/python3.11/site-packages (from torch->efficientnet-pytorch) (2024.5.0)\n",
            "Requirement already satisfied: smmap<6,>=3.0.1 in ./.venv/lib/python3.11/site-packages (from gitdb<5,>=4.0.1->gitpython!=3.1.29,>=1.0.0->wandb) (5.0.1)\n",
            "Requirement already satisfied: MarkupSafe>=2.0 in ./.venv/lib/python3.11/site-packages (from jinja2->torch->efficientnet-pytorch) (2.1.5)\n",
            "Requirement already satisfied: mpmath>=0.19 in ./.venv/lib/python3.11/site-packages (from sympy->torch->efficientnet-pytorch) (1.3.0)\n"
          ]
        }
      ],
      "source": [
        "!pip install opencv-python-headless efficientnet-pytorch wandb tqdm"
      ]
    },
    {
      "cell_type": "code",
      "execution_count": 25,
      "metadata": {},
      "outputs": [],
      "source": [
        "import ssl\n",
        "\n",
        "# Deshabilitar verificación SSL\n",
        "ssl._create_default_https_context = ssl._create_unverified_context"
      ]
    },
    {
      "cell_type": "code",
      "execution_count": 2,
      "metadata": {
        "id": "j2ml7CZVGfMC"
      },
      "outputs": [],
      "source": [
        "import os\n",
        "import shutil\n",
        "import torch\n",
        "from torchvision import datasets, transforms\n",
        "from torch.utils.data import DataLoader\n",
        "import torch.nn as nn\n",
        "from efficientnet_pytorch import EfficientNet\n",
        "from tqdm import tqdm\n",
        "import wandb\n",
        "#from google.colab import drive"
      ]
    },
    {
      "cell_type": "code",
      "execution_count": 3,
      "metadata": {
        "colab": {
          "base_uri": "https://localhost:8080/",
          "height": 222
        },
        "id": "Yfn264v4lWDu",
        "outputId": "4d788bfe-6454-4a8e-d9a5-b05fcfbfb0ff"
      },
      "outputs": [
        {
          "name": "stderr",
          "output_type": "stream",
          "text": [
            "Failed to detect the name of this notebook, you can set it manually with the WANDB_NOTEBOOK_NAME environment variable to enable code saving.\n",
            "\u001b[34m\u001b[1mwandb\u001b[0m: W&B API key is configured. Use \u001b[1m`wandb login --relogin`\u001b[0m to force relogin\n",
            "\u001b[34m\u001b[1mwandb\u001b[0m: \u001b[33mWARNING\u001b[0m If you're specifying your api key in code, ensure this code is not shared publicly.\n",
            "\u001b[34m\u001b[1mwandb\u001b[0m: \u001b[33mWARNING\u001b[0m Consider setting the WANDB_API_KEY environment variable, or running `wandb login` from the command line.\n",
            "\u001b[34m\u001b[1mwandb\u001b[0m: Appending key for api.wandb.ai to your netrc file: /Users/daniellizano/.netrc\n",
            "\u001b[34m\u001b[1mwandb\u001b[0m: Currently logged in as: \u001b[33mdlizano\u001b[0m (\u001b[33mci-0148-g3\u001b[0m). Use \u001b[1m`wandb login --relogin`\u001b[0m to force relogin\n"
          ]
        },
        {
          "ename": "KeyboardInterrupt",
          "evalue": "",
          "output_type": "error",
          "traceback": [
            "\u001b[0;31m---------------------------------------------------------------------------\u001b[0m",
            "\u001b[0;31mKeyboardInterrupt\u001b[0m                         Traceback (most recent call last)",
            "\u001b[1;32m/Users/daniellizano/Desktop/cnn/proyecto2.ipynb Cell 5\u001b[0m line \u001b[0;36m3\n\u001b[1;32m      <a href='vscode-notebook-cell:/Users/daniellizano/Desktop/cnn/proyecto2.ipynb#W4sZmlsZQ%3D%3D?line=0'>1</a>\u001b[0m \u001b[39m#no ejecuten esta celda a menos de que vayan a entrenar\u001b[39;00m\n\u001b[1;32m      <a href='vscode-notebook-cell:/Users/daniellizano/Desktop/cnn/proyecto2.ipynb#W4sZmlsZQ%3D%3D?line=1'>2</a>\u001b[0m wandb\u001b[39m.\u001b[39mlogin(key\u001b[39m=\u001b[39m\u001b[39m'\u001b[39m\u001b[39m3cafdcf0089550f7f1fced0f61847af11f54c788\u001b[39m\u001b[39m'\u001b[39m)\n\u001b[0;32m----> <a href='vscode-notebook-cell:/Users/daniellizano/Desktop/cnn/proyecto2.ipynb#W4sZmlsZQ%3D%3D?line=2'>3</a>\u001b[0m wandb\u001b[39m.\u001b[39;49minit(project\u001b[39m=\u001b[39;49m\u001b[39m'\u001b[39;49m\u001b[39mCOVID-19_Radiography_Dataset\u001b[39;49m\u001b[39m'\u001b[39;49m)\n\u001b[1;32m      <a href='vscode-notebook-cell:/Users/daniellizano/Desktop/cnn/proyecto2.ipynb#W4sZmlsZQ%3D%3D?line=4'>5</a>\u001b[0m \u001b[39m#3cafdcf0089550f7f1fced0f61847af11f54c788 llave api\u001b[39;00m\n",
            "File \u001b[0;32m~/Desktop/cnn/.venv/lib/python3.11/site-packages/wandb/sdk/wandb_init.py:1164\u001b[0m, in \u001b[0;36minit\u001b[0;34m(job_type, dir, config, project, entity, reinit, tags, group, name, notes, magic, config_exclude_keys, config_include_keys, anonymous, mode, allow_val_change, resume, force, tensorboard, sync_tensorboard, monitor_gym, save_code, id, fork_from, settings)\u001b[0m\n\u001b[1;32m   1162\u001b[0m     wi \u001b[39m=\u001b[39m _WandbInit()\n\u001b[1;32m   1163\u001b[0m     wi\u001b[39m.\u001b[39msetup(kwargs)\n\u001b[0;32m-> 1164\u001b[0m     \u001b[39mreturn\u001b[39;00m wi\u001b[39m.\u001b[39;49minit()\n\u001b[1;32m   1166\u001b[0m \u001b[39mexcept\u001b[39;00m \u001b[39mKeyboardInterrupt\u001b[39;00m \u001b[39mas\u001b[39;00m e:\n\u001b[1;32m   1167\u001b[0m     \u001b[39mif\u001b[39;00m logger \u001b[39mis\u001b[39;00m \u001b[39mnot\u001b[39;00m \u001b[39mNone\u001b[39;00m:\n",
            "File \u001b[0;32m~/Desktop/cnn/.venv/lib/python3.11/site-packages/wandb/sdk/wandb_init.py:808\u001b[0m, in \u001b[0;36m_WandbInit.init\u001b[0;34m(self)\u001b[0m\n\u001b[1;32m    806\u001b[0m run_start_handle \u001b[39m=\u001b[39m backend\u001b[39m.\u001b[39minterface\u001b[39m.\u001b[39mdeliver_run_start(run\u001b[39m.\u001b[39m_run_obj)\n\u001b[1;32m    807\u001b[0m \u001b[39m# TODO: add progress to let user know we are doing something\u001b[39;00m\n\u001b[0;32m--> 808\u001b[0m run_start_result \u001b[39m=\u001b[39m run_start_handle\u001b[39m.\u001b[39;49mwait(timeout\u001b[39m=\u001b[39;49m\u001b[39m30\u001b[39;49m)\n\u001b[1;32m    809\u001b[0m \u001b[39mif\u001b[39;00m run_start_result \u001b[39mis\u001b[39;00m \u001b[39mNone\u001b[39;00m:\n\u001b[1;32m    810\u001b[0m     run_start_handle\u001b[39m.\u001b[39mabandon()\n",
            "File \u001b[0;32m~/Desktop/cnn/.venv/lib/python3.11/site-packages/wandb/sdk/lib/mailbox.py:283\u001b[0m, in \u001b[0;36mMailboxHandle.wait\u001b[0;34m(self, timeout, on_probe, on_progress, release, cancel)\u001b[0m\n\u001b[1;32m    280\u001b[0m     \u001b[39mif\u001b[39;00m \u001b[39mself\u001b[39m\u001b[39m.\u001b[39m_interface\u001b[39m.\u001b[39m_transport_keepalive_failed():\n\u001b[1;32m    281\u001b[0m         \u001b[39mraise\u001b[39;00m MailboxError(\u001b[39m\"\u001b[39m\u001b[39mtransport failed\u001b[39m\u001b[39m\"\u001b[39m)\n\u001b[0;32m--> 283\u001b[0m found, abandoned \u001b[39m=\u001b[39m \u001b[39mself\u001b[39;49m\u001b[39m.\u001b[39;49m_slot\u001b[39m.\u001b[39;49m_get_and_clear(timeout\u001b[39m=\u001b[39;49mwait_timeout)\n\u001b[1;32m    284\u001b[0m \u001b[39mif\u001b[39;00m found:\n\u001b[1;32m    285\u001b[0m     \u001b[39m# Always update progress to 100% when done\u001b[39;00m\n\u001b[1;32m    286\u001b[0m     \u001b[39mif\u001b[39;00m on_progress \u001b[39mand\u001b[39;00m progress_handle \u001b[39mand\u001b[39;00m progress_sent:\n",
            "File \u001b[0;32m~/Desktop/cnn/.venv/lib/python3.11/site-packages/wandb/sdk/lib/mailbox.py:130\u001b[0m, in \u001b[0;36m_MailboxSlot._get_and_clear\u001b[0;34m(self, timeout)\u001b[0m\n\u001b[1;32m    128\u001b[0m \u001b[39mdef\u001b[39;00m \u001b[39m_get_and_clear\u001b[39m(\u001b[39mself\u001b[39m, timeout: \u001b[39mfloat\u001b[39m) \u001b[39m-\u001b[39m\u001b[39m>\u001b[39m Tuple[Optional[pb\u001b[39m.\u001b[39mResult], \u001b[39mbool\u001b[39m]:\n\u001b[1;32m    129\u001b[0m     found \u001b[39m=\u001b[39m \u001b[39mNone\u001b[39;00m\n\u001b[0;32m--> 130\u001b[0m     \u001b[39mif\u001b[39;00m \u001b[39mself\u001b[39;49m\u001b[39m.\u001b[39;49m_wait(timeout\u001b[39m=\u001b[39;49mtimeout):\n\u001b[1;32m    131\u001b[0m         \u001b[39mwith\u001b[39;00m \u001b[39mself\u001b[39m\u001b[39m.\u001b[39m_lock:\n\u001b[1;32m    132\u001b[0m             found \u001b[39m=\u001b[39m \u001b[39mself\u001b[39m\u001b[39m.\u001b[39m_result\n",
            "File \u001b[0;32m~/Desktop/cnn/.venv/lib/python3.11/site-packages/wandb/sdk/lib/mailbox.py:126\u001b[0m, in \u001b[0;36m_MailboxSlot._wait\u001b[0;34m(self, timeout)\u001b[0m\n\u001b[1;32m    125\u001b[0m \u001b[39mdef\u001b[39;00m \u001b[39m_wait\u001b[39m(\u001b[39mself\u001b[39m, timeout: \u001b[39mfloat\u001b[39m) \u001b[39m-\u001b[39m\u001b[39m>\u001b[39m \u001b[39mbool\u001b[39m:\n\u001b[0;32m--> 126\u001b[0m     \u001b[39mreturn\u001b[39;00m \u001b[39mself\u001b[39;49m\u001b[39m.\u001b[39;49m_event\u001b[39m.\u001b[39;49mwait(timeout\u001b[39m=\u001b[39;49mtimeout)\n",
            "File \u001b[0;32m/Library/Frameworks/Python.framework/Versions/3.11/lib/python3.11/threading.py:629\u001b[0m, in \u001b[0;36mEvent.wait\u001b[0;34m(self, timeout)\u001b[0m\n\u001b[1;32m    627\u001b[0m signaled \u001b[39m=\u001b[39m \u001b[39mself\u001b[39m\u001b[39m.\u001b[39m_flag\n\u001b[1;32m    628\u001b[0m \u001b[39mif\u001b[39;00m \u001b[39mnot\u001b[39;00m signaled:\n\u001b[0;32m--> 629\u001b[0m     signaled \u001b[39m=\u001b[39m \u001b[39mself\u001b[39;49m\u001b[39m.\u001b[39;49m_cond\u001b[39m.\u001b[39;49mwait(timeout)\n\u001b[1;32m    630\u001b[0m \u001b[39mreturn\u001b[39;00m signaled\n",
            "File \u001b[0;32m/Library/Frameworks/Python.framework/Versions/3.11/lib/python3.11/threading.py:331\u001b[0m, in \u001b[0;36mCondition.wait\u001b[0;34m(self, timeout)\u001b[0m\n\u001b[1;32m    329\u001b[0m \u001b[39melse\u001b[39;00m:\n\u001b[1;32m    330\u001b[0m     \u001b[39mif\u001b[39;00m timeout \u001b[39m>\u001b[39m \u001b[39m0\u001b[39m:\n\u001b[0;32m--> 331\u001b[0m         gotit \u001b[39m=\u001b[39m waiter\u001b[39m.\u001b[39;49macquire(\u001b[39mTrue\u001b[39;49;00m, timeout)\n\u001b[1;32m    332\u001b[0m     \u001b[39melse\u001b[39;00m:\n\u001b[1;32m    333\u001b[0m         gotit \u001b[39m=\u001b[39m waiter\u001b[39m.\u001b[39macquire(\u001b[39mFalse\u001b[39;00m)\n",
            "\u001b[0;31mKeyboardInterrupt\u001b[0m: "
          ]
        }
      ],
      "source": [
        "#no ejecuten esta celda a menos de que vayan a entrenar\n",
        "wandb.login(key='3cafdcf0089550f7f1fced0f61847af11f54c788')\n",
        "wandb.init(project='COVID-19_Radiography_Dataset')\n",
        "#3cafdcf0089550f7f1fced0f61847af11f54c788 llave api"
      ]
    },
    {
      "cell_type": "code",
      "execution_count": null,
      "metadata": {
        "colab": {
          "base_uri": "https://localhost:8080/"
        },
        "id": "sT6lU8SzJPBb",
        "outputId": "25534bfc-1680-461c-bc8f-c23fe0542b1a"
      },
      "outputs": [
        {
          "name": "stdout",
          "output_type": "stream",
          "text": [
            "Mounted at /content/drive\n"
          ]
        }
      ],
      "source": [
        "drive.mount('/content/drive')"
      ]
    },
    {
      "cell_type": "code",
      "execution_count": null,
      "metadata": {
        "colab": {
          "base_uri": "https://localhost:8080/"
        },
        "id": "mrRHTIXE9en9",
        "outputId": "c2576e47-ba05-40a0-e23f-bfc043ce5d3e"
      },
      "outputs": [
        {
          "name": "stdout",
          "output_type": "stream",
          "text": [
            "/content/drive/MyDrive/COVID-19_Radiography_Dataset\n"
          ]
        }
      ],
      "source": [
        "%cd /content/drive/MyDrive/COVID-19_Radiography_Dataset/"
      ]
    },
    {
      "cell_type": "markdown",
      "metadata": {
        "id": "vfhE6eUxfXLV"
      },
      "source": [
        "Data preprocessing"
      ]
    },
    {
      "cell_type": "markdown",
      "metadata": {
        "id": "qsHMqKZQvD1V"
      },
      "source": [
        "MLP"
      ]
    },
    {
      "cell_type": "markdown",
      "metadata": {
        "id": "LurHf5driNnI"
      },
      "source": [
        "CNN general"
      ]
    },
    {
      "cell_type": "code",
      "execution_count": null,
      "metadata": {
        "id": "YjkVu01ZiTSN"
      },
      "outputs": [],
      "source": [
        "# Hyperparameters\n",
        "num_epochs = 5\n",
        "batch_size = 32\n",
        "learning_rate = 0.001\n",
        "classes = ['Viral_Pneumonia', 'COVID', 'Normal', 'Lung_Opacity']\n",
        "num_classes = len(classes)\n",
        "root_dir = '/content/drive/MyDrive/COVID-19_Radiography_Dataset/'\n",
        "withoutfilter_dir = '/content/drive/MyDrive/COVID-19_Radiography_Dataset/withoutfilter'\n",
        "withfilter_dir = '/content/drive/MyDrive/COVID-19_Radiography_Dataset/filtradas'"
      ]
    },
    {
      "cell_type": "code",
      "execution_count": null,
      "metadata": {
        "id": "vw0xRivm0_7v"
      },
      "outputs": [],
      "source": [
        "data_transforms = {\n",
        "    'train': transforms.Compose([\n",
        "        transforms.Resize((240, 240)),  # Adjust size for EfficientNet-B1\n",
        "        transforms.RandomHorizontalFlip(),  # Randomly flip the image horizontally\n",
        "        transforms.RandomRotation(10),  # Randomly rotate the image by up to 10 degrees\n",
        "        transforms.ColorJitter(brightness=0.2, contrast=0.2, saturation=0.2, hue=0.2),  # Randomly change brightness, contrast, saturation, and hue\n",
        "        transforms.ToTensor(),  # Convert the image to a tensor\n",
        "        transforms.Normalize([0.485, 0.456, 0.406], [0.229, 0.224, 0.225])  # Normalize the image\n",
        "    ]),\n",
        "    'val': transforms.Compose([\n",
        "        transforms.Resize((240, 240)),  # Adjust size for EfficientNet-B1\n",
        "        transforms.ToTensor(),  # Convert the image to a tensor\n",
        "        transforms.Normalize([0.485, 0.456, 0.406], [0.229, 0.224, 0.225])  # Normalize the image\n",
        "    ]),\n",
        "}"
      ]
    },
    {
      "cell_type": "code",
      "execution_count": null,
      "metadata": {
        "id": "Kiauz2NBi_i-"
      },
      "outputs": [],
      "source": [
        "def create_folders(base_dir):\n",
        "  train_dir = os.path.join(base_dir, 'train')\n",
        "  val_dir = os.path.join(base_dir, 'val')\n",
        "\n",
        "  os.makedirs(train_dir, exist_ok=True)\n",
        "  os.makedirs(val_dir, exist_ok=True)\n",
        "\n",
        "  for folder in [train_dir, val_dir]:\n",
        "    for category in classes:\n",
        "      category_dir = os.path.join(folder, category)\n",
        "      os.makedirs(category_dir, exist_ok=True)"
      ]
    },
    {
      "cell_type": "code",
      "execution_count": null,
      "metadata": {
        "id": "wDuGKLn9kjtv"
      },
      "outputs": [],
      "source": [
        "def set_train_val_images(source_dir, base_dir):\n",
        "\n",
        "  train_dir = os.path.join(base_dir, 'train')\n",
        "  val_dir = os.path.join(base_dir, 'val')\n",
        "\n",
        "  os.makedirs(train_dir, exist_ok=True)\n",
        "  os.makedirs(val_dir, exist_ok=True)\n",
        "\n",
        "  # Copy data to the correct directories if not already done\n",
        "  for category in classes:\n",
        "    category_path = os.path.join(source_dir, category, 'images')\n",
        "    images = os.listdir(category_path)\n",
        "\n",
        "    # Ensure the category directories exist in train and val directories\n",
        "    train_category_dir = os.path.join(train_dir, category)\n",
        "    val_category_dir = os.path.join(val_dir, category)\n",
        "    os.makedirs(train_category_dir, exist_ok=True)\n",
        "    os.makedirs(val_category_dir, exist_ok=True)\n",
        "\n",
        "    train_images = images[:int(len(images) * 0.8)]\n",
        "    val_images = images[int(len(images) * 0.8):]\n",
        "\n",
        "    # Copy train images\n",
        "    for img in tqdm(train_images, desc=f\"Copying train images for {category}\"):\n",
        "        src_path = os.path.join(category_path, img)\n",
        "        dst_path = os.path.join(train_category_dir, img)\n",
        "        if not os.path.exists(dst_path):\n",
        "            shutil.copy(src_path, dst_path)\n",
        "\n",
        "    # Copy val images\n",
        "    for img in tqdm(val_images, desc=f\"Copying val images for {category}\"):\n",
        "        src_path = os.path.join(category_path, img)\n",
        "        dst_path = os.path.join(val_category_dir, img)\n",
        "        if not os.path.exists(dst_path):\n",
        "            shutil.copy(src_path, dst_path)\n",
        "\n",
        "  # Verify the directory structure\n",
        "  print(\"\\nTrain Directory Structure:\")\n",
        "  for root, dirs, files in os.walk(train_dir):\n",
        "      print(root, \"contains\", len(files), \"files\")\n",
        "\n",
        "  print(\"\\nValidation Directory Structure:\")\n",
        "  for root, dirs, files in os.walk(val_dir):\n",
        "      print(root, \"contains\", len(files), \"files\")"
      ]
    },
    {
      "cell_type": "code",
      "execution_count": null,
      "metadata": {
        "id": "udjYut_jAqAQ"
      },
      "outputs": [],
      "source": [
        "def train_model(model, criterion, optimizer, train_loader, val_loader, device, num_epochs):\n",
        "  for epoch in range(num_epochs):\n",
        "    model.train()\n",
        "    running_loss = 0.0\n",
        "    correct = 0\n",
        "    total = 0\n",
        "\n",
        "    # Training phase with progress bar\n",
        "    train_progress = tqdm(train_loader, desc=f\"Epoch {epoch+1}/{num_epochs} - Training\", unit=\"batch\")\n",
        "    for inputs, labels in train_progress:\n",
        "      inputs, labels = inputs.to(device), labels.to(device)\n",
        "\n",
        "      optimizer.zero_grad()\n",
        "\n",
        "      outputs = model(inputs)\n",
        "      loss = criterion(outputs, labels)\n",
        "      loss.backward()\n",
        "      optimizer.step()\n",
        "\n",
        "      running_loss += loss.item() * inputs.size(0)\n",
        "      _, predicted = torch.max(outputs, 1)\n",
        "      total += labels.size(0)\n",
        "      correct += (predicted == labels).sum().item()\n",
        "\n",
        "      train_progress.set_postfix({\"Loss\": running_loss / total, \"Acc\": correct / total})\n",
        "\n",
        "    epoch_loss = running_loss / len(train_loader.dataset)\n",
        "    epoch_acc = correct / total\n",
        "\n",
        "    print(f'Epoch {epoch+1}/{num_epochs}')\n",
        "    print(f'Train Loss: {epoch_loss:.4f} Acc: {epoch_acc:.4f}')\n",
        "\n",
        "    # Log training metrics to W&B\n",
        "    # wandb.log({\"epoch\": epoch + 1, \"train_loss\": epoch_loss, \"train_accuracy\": epoch_acc})\n",
        "\n",
        "    model.eval()\n",
        "    val_loss = 0.0\n",
        "    val_correct = 0\n",
        "    val_total = 0\n",
        "\n",
        "    # Validation phase with progress bar\n",
        "    val_progress = tqdm(val_loader, desc=f\"Epoch {epoch+1}/{num_epochs} - Validation\", unit=\"batch\")\n",
        "    with torch.no_grad():\n",
        "      for inputs, labels in val_progress:\n",
        "        inputs, labels = inputs.to(device), labels.to(device)\n",
        "\n",
        "        outputs = model(inputs)\n",
        "        loss = criterion(outputs, labels)\n",
        "\n",
        "        val_loss += loss.item() * inputs.size(0)\n",
        "        _, predicted = torch.max(outputs, 1)\n",
        "        val_total += labels.size(0)\n",
        "        val_correct += (predicted == labels).sum().item()\n",
        "\n",
        "        val_progress.set_postfix({\"Loss\": val_loss / val_total,\n",
        "                                          \"Acc\": val_correct / val_total})\n",
        "\n",
        "    val_loss = val_loss / len(val_loader.dataset)\n",
        "    val_acc = val_correct / val_total\n",
        "\n",
        "    print(f'Val Loss: {val_loss:.4f} Acc: {val_acc:.4f}')\n",
        "\n",
        "    # Log validation metrics to W&B\n",
        "    #wandb.log({\"epoch\": epoch + 1, \"val_loss\": val_loss, \"val_accuracy\": val_acc})\n",
        "\n",
        "    return model"
      ]
    },
    {
      "cell_type": "code",
      "execution_count": null,
      "metadata": {
        "id": "WUH6EMdD71wH"
      },
      "outputs": [],
      "source": [
        "def evaluate_model(model, dataloader, device):\n",
        "  model.eval()\n",
        "  correct = 0\n",
        "  total = 0\n",
        "\n",
        "  with torch.no_grad():\n",
        "    for inputs, labels in dataloader:\n",
        "      inputs, labels = inputs.to(device), labels.to(device)\n",
        "\n",
        "      outputs = model(inputs)\n",
        "      _, predicted = torch.max(outputs, 1)\n",
        "      total += labels.size(0)\n",
        "      correct += (predicted == labels).sum().item()\n",
        "\n",
        "  accuracy = correct / total\n",
        "  print(f'Accuracy: {accuracy:.4f}')\n",
        "  return accuracy"
      ]
    },
    {
      "cell_type": "markdown",
      "metadata": {
        "id": "EPjIOdMSiHiW"
      },
      "source": [
        "CNN sin filtros"
      ]
    },
    {
      "cell_type": "code",
      "execution_count": null,
      "metadata": {
        "id": "3NkX-d7dh3G8"
      },
      "outputs": [],
      "source": [
        "withoutfilter_dir = os.path.join(root_dir, 'withoutfilter')\n",
        "os.makedirs(withoutfilter_dir, exist_ok=True)\n",
        "create_folders(withoutfilter_dir)"
      ]
    },
    {
      "cell_type": "code",
      "execution_count": null,
      "metadata": {
        "id": "O7WEFbSa2n-o"
      },
      "outputs": [],
      "source": [
        "train_dir = '/content/drive/MyDrive/COVID-19_Radiography_Dataset/withoutfilter/train'\n",
        "val_dir = '/content/drive/MyDrive/COVID-19_Radiography_Dataset/withoutfilter/val'"
      ]
    },
    {
      "cell_type": "code",
      "execution_count": null,
      "metadata": {
        "colab": {
          "base_uri": "https://localhost:8080/"
        },
        "id": "QOM9kgPpoEe1",
        "outputId": "c6f45793-799b-47ae-b649-d64d8b793b44"
      },
      "outputs": [
        {
          "name": "stderr",
          "output_type": "stream",
          "text": [
            "Copying train images for Viral_Pneumonia: 100%|██████████| 1076/1076 [00:22<00:00, 46.97it/s]\n",
            "Copying val images for Viral_Pneumonia: 100%|██████████| 269/269 [00:03<00:00, 75.15it/s]\n",
            "Copying train images for COVID: 100%|██████████| 2892/2892 [01:30<00:00, 32.07it/s]\n",
            "Copying val images for COVID: 100%|██████████| 724/724 [00:07<00:00, 92.95it/s]\n",
            "Copying train images for Normal: 100%|██████████| 8153/8153 [04:06<00:00, 33.03it/s]\n",
            "Copying val images for Normal: 100%|██████████| 2039/2039 [00:22<00:00, 91.71it/s]\n",
            "Copying train images for Lung_Opacity: 100%|██████████| 4809/4809 [07:11<00:00, 11.15it/s]\n",
            "Copying val images for Lung_Opacity: 100%|██████████| 1203/1203 [00:14<00:00, 84.15it/s]\n"
          ]
        },
        {
          "name": "stdout",
          "output_type": "stream",
          "text": [
            "\n",
            "Train Directory Structure:\n",
            "/content/drive/MyDrive/COVID-19_Radiography_Dataset/withoutfilter/train contains 0 files\n",
            "/content/drive/MyDrive/COVID-19_Radiography_Dataset/withoutfilter/train/Viral_Pneumonia contains 1076 files\n",
            "/content/drive/MyDrive/COVID-19_Radiography_Dataset/withoutfilter/train/COVID contains 2892 files\n",
            "/content/drive/MyDrive/COVID-19_Radiography_Dataset/withoutfilter/train/Normal contains 8153 files\n",
            "/content/drive/MyDrive/COVID-19_Radiography_Dataset/withoutfilter/train/Lung_Opacity contains 4809 files\n",
            "\n",
            "Validation Directory Structure:\n",
            "/content/drive/MyDrive/COVID-19_Radiography_Dataset/withoutfilter/val contains 0 files\n",
            "/content/drive/MyDrive/COVID-19_Radiography_Dataset/withoutfilter/val/Viral_Pneumonia contains 269 files\n",
            "/content/drive/MyDrive/COVID-19_Radiography_Dataset/withoutfilter/val/COVID contains 724 files\n",
            "/content/drive/MyDrive/COVID-19_Radiography_Dataset/withoutfilter/val/Normal contains 2039 files\n",
            "/content/drive/MyDrive/COVID-19_Radiography_Dataset/withoutfilter/val/Lung_Opacity contains 1203 files\n"
          ]
        }
      ],
      "source": [
        "set_train_val_images(root_dir, withoutfilter_dir)"
      ]
    },
    {
      "cell_type": "code",
      "execution_count": null,
      "metadata": {
        "id": "DmMP4QML09JL"
      },
      "outputs": [],
      "source": [
        "# Load datasets\n",
        "train_dataset = datasets.ImageFolder(train_dir, transform=data_transforms['train'])\n",
        "val_dataset = datasets.ImageFolder(val_dir, transform=data_transforms['val'])\n",
        "\n",
        "# Create dataloaders\n",
        "train_loader = DataLoader(train_dataset, batch_size, shuffle=True)\n",
        "val_loader = DataLoader(val_dataset, batch_size, shuffle=False)"
      ]
    },
    {
      "cell_type": "code",
      "execution_count": null,
      "metadata": {
        "colab": {
          "base_uri": "https://localhost:8080/"
        },
        "id": "PyWc0MYz1El6",
        "outputId": "eead0ed2-ace6-4bc8-dba2-4ad45c5ad394"
      },
      "outputs": [
        {
          "name": "stderr",
          "output_type": "stream",
          "text": [
            "Downloading: \"https://github.com/lukemelas/EfficientNet-PyTorch/releases/download/1.0/efficientnet-b1-f1951068.pth\" to /root/.cache/torch/hub/checkpoints/efficientnet-b1-f1951068.pth\n",
            "100%|██████████| 30.1M/30.1M [00:00<00:00, 206MB/s]\n"
          ]
        },
        {
          "name": "stdout",
          "output_type": "stream",
          "text": [
            "Loaded pretrained weights for efficientnet-b1\n"
          ]
        }
      ],
      "source": [
        "# Load EfficientNet-B1 model\n",
        "model = EfficientNet.from_pretrained('efficientnet-b1')\n",
        "num_classes = len(train_dataset.classes)\n",
        "model._fc = nn.Linear(model._fc.in_features, num_classes)\n",
        "\n",
        "# Define the device\n",
        "device = torch.device('cuda' if torch.cuda.is_available() else 'cpu')\n",
        "model = model.to(device)\n",
        "\n",
        "# Define loss function and optimizer\n",
        "criterion = nn.CrossEntropyLoss()\n",
        "optimizer = torch.optim.Adam(model.parameters(), lr=0.001)"
      ]
    },
    {
      "cell_type": "code",
      "execution_count": null,
      "metadata": {
        "colab": {
          "base_uri": "https://localhost:8080/",
          "height": 373
        },
        "id": "9Kl-LgSx3RiF",
        "outputId": "31057944-0e8e-4a77-efe8-7f987ccd03fd"
      },
      "outputs": [
        {
          "name": "stderr",
          "output_type": "stream",
          "text": [
            "Epoch 1/5 - Training: 100%|██████████| 530/530 [05:37<00:00,  1.57batch/s, Loss=0.207, Acc=0.928]\n"
          ]
        },
        {
          "name": "stdout",
          "output_type": "stream",
          "text": [
            "Epoch 1/5\n",
            "Train Loss: 0.2074 Acc: 0.9276\n"
          ]
        },
        {
          "name": "stderr",
          "output_type": "stream",
          "text": [
            "Epoch 1/5 - Validation: 100%|██████████| 133/133 [18:47<00:00,  8.48s/batch, Loss=0.168, Acc=0.946]"
          ]
        },
        {
          "name": "stdout",
          "output_type": "stream",
          "text": [
            "Val Loss: 0.1682 Acc: 0.9459\n"
          ]
        },
        {
          "name": "stderr",
          "output_type": "stream",
          "text": [
            "\n"
          ]
        },
        {
          "ename": "Error",
          "evalue": "You must call wandb.init() before wandb.log()",
          "output_type": "error",
          "traceback": [
            "\u001b[0;31m---------------------------------------------------------------------------\u001b[0m",
            "\u001b[0;31mError\u001b[0m                                     Traceback (most recent call last)",
            "\u001b[0;32m<ipython-input-14-811b13321151>\u001b[0m in \u001b[0;36m<cell line: 1>\u001b[0;34m()\u001b[0m\n\u001b[0;32m----> 1\u001b[0;31m \u001b[0mtrained_model\u001b[0m \u001b[0;34m=\u001b[0m \u001b[0mtrain_model\u001b[0m\u001b[0;34m(\u001b[0m\u001b[0mmodel\u001b[0m\u001b[0;34m,\u001b[0m \u001b[0mcriterion\u001b[0m\u001b[0;34m,\u001b[0m \u001b[0moptimizer\u001b[0m\u001b[0;34m,\u001b[0m \u001b[0mtrain_loader\u001b[0m\u001b[0;34m,\u001b[0m \u001b[0mval_loader\u001b[0m\u001b[0;34m,\u001b[0m \u001b[0mdevice\u001b[0m\u001b[0;34m,\u001b[0m \u001b[0mnum_epochs\u001b[0m\u001b[0;34m)\u001b[0m\u001b[0;34m\u001b[0m\u001b[0;34m\u001b[0m\u001b[0m\n\u001b[0m",
            "\u001b[0;32m<ipython-input-13-c32d9361d76f>\u001b[0m in \u001b[0;36mtrain_model\u001b[0;34m(model, criterion, optimizer, train_loader, val_loader, device, num_epochs)\u001b[0m\n\u001b[1;32m     62\u001b[0m \u001b[0;34m\u001b[0m\u001b[0m\n\u001b[1;32m     63\u001b[0m     \u001b[0;31m# Log validation metrics to W&B\u001b[0m\u001b[0;34m\u001b[0m\u001b[0;34m\u001b[0m\u001b[0m\n\u001b[0;32m---> 64\u001b[0;31m     \u001b[0mwandb\u001b[0m\u001b[0;34m.\u001b[0m\u001b[0mlog\u001b[0m\u001b[0;34m(\u001b[0m\u001b[0;34m{\u001b[0m\u001b[0;34m\"epoch\"\u001b[0m\u001b[0;34m:\u001b[0m \u001b[0mepoch\u001b[0m \u001b[0;34m+\u001b[0m \u001b[0;36m1\u001b[0m\u001b[0;34m,\u001b[0m \u001b[0;34m\"val_loss\"\u001b[0m\u001b[0;34m:\u001b[0m \u001b[0mval_loss\u001b[0m\u001b[0;34m,\u001b[0m \u001b[0;34m\"val_accuracy\"\u001b[0m\u001b[0;34m:\u001b[0m \u001b[0mval_acc\u001b[0m\u001b[0;34m}\u001b[0m\u001b[0;34m)\u001b[0m\u001b[0;34m\u001b[0m\u001b[0;34m\u001b[0m\u001b[0m\n\u001b[0m\u001b[1;32m     65\u001b[0m \u001b[0;34m\u001b[0m\u001b[0m\n\u001b[1;32m     66\u001b[0m     \u001b[0;32mreturn\u001b[0m \u001b[0mmodel\u001b[0m\u001b[0;34m\u001b[0m\u001b[0;34m\u001b[0m\u001b[0m\n",
            "\u001b[0;32m/usr/local/lib/python3.10/dist-packages/wandb/sdk/lib/preinit.py\u001b[0m in \u001b[0;36mpreinit_wrapper\u001b[0;34m(*args, **kwargs)\u001b[0m\n\u001b[1;32m     34\u001b[0m ) -> Callable:\n\u001b[1;32m     35\u001b[0m     \u001b[0;32mdef\u001b[0m \u001b[0mpreinit_wrapper\u001b[0m\u001b[0;34m(\u001b[0m\u001b[0;34m*\u001b[0m\u001b[0margs\u001b[0m\u001b[0;34m:\u001b[0m \u001b[0mAny\u001b[0m\u001b[0;34m,\u001b[0m \u001b[0;34m**\u001b[0m\u001b[0mkwargs\u001b[0m\u001b[0;34m:\u001b[0m \u001b[0mAny\u001b[0m\u001b[0;34m)\u001b[0m \u001b[0;34m->\u001b[0m \u001b[0mAny\u001b[0m\u001b[0;34m:\u001b[0m\u001b[0;34m\u001b[0m\u001b[0;34m\u001b[0m\u001b[0m\n\u001b[0;32m---> 36\u001b[0;31m         \u001b[0;32mraise\u001b[0m \u001b[0mwandb\u001b[0m\u001b[0;34m.\u001b[0m\u001b[0mError\u001b[0m\u001b[0;34m(\u001b[0m\u001b[0;34mf\"You must call wandb.init() before {name}()\"\u001b[0m\u001b[0;34m)\u001b[0m\u001b[0;34m\u001b[0m\u001b[0;34m\u001b[0m\u001b[0m\n\u001b[0m\u001b[1;32m     37\u001b[0m \u001b[0;34m\u001b[0m\u001b[0m\n\u001b[1;32m     38\u001b[0m     \u001b[0mpreinit_wrapper\u001b[0m\u001b[0;34m.\u001b[0m\u001b[0m__name__\u001b[0m \u001b[0;34m=\u001b[0m \u001b[0mstr\u001b[0m\u001b[0;34m(\u001b[0m\u001b[0mname\u001b[0m\u001b[0;34m)\u001b[0m\u001b[0;34m\u001b[0m\u001b[0;34m\u001b[0m\u001b[0m\n",
            "\u001b[0;31mError\u001b[0m: You must call wandb.init() before wandb.log()"
          ]
        }
      ],
      "source": [
        "trained_model = train_model(model, criterion, optimizer, train_loader, val_loader, device, num_epochs)"
      ]
    },
    {
      "cell_type": "code",
      "execution_count": null,
      "metadata": {
        "id": "GmSHFEQa3fb4"
      },
      "outputs": [],
      "source": [
        "val_accuracy = evaluate_model(trained_model, val_loader, device)"
      ]
    },
    {
      "cell_type": "markdown",
      "metadata": {
        "id": "4zxpIh5tuHlR"
      },
      "source": [
        "CNN con filtros\n"
      ]
    },
    {
      "cell_type": "code",
      "execution_count": 27,
      "metadata": {
        "id": "fuEL3_0jvHWF"
      },
      "outputs": [],
      "source": [
        "base_dir = 'COVID-19_Radiography_Dataset/filtradas' #este path es solo para la cnn con filtro"
      ]
    },
    {
      "cell_type": "code",
      "execution_count": 28,
      "metadata": {
        "id": "htjaRa-Epprp"
      },
      "outputs": [],
      "source": [
        "data_transforms = {\n",
        "    'train': transforms.Compose([\n",
        "        transforms.Grayscale(num_output_channels=1),  # Convertir a blanco y negro\n",
        "        transforms.Resize((240, 240)),\n",
        "        transforms.RandomHorizontalFlip(),\n",
        "        transforms.RandomRotation(10),\n",
        "        transforms.ColorJitter(brightness=0.2, contrast=0.2, saturation=0.2, hue=0.2),\n",
        "        transforms.ToTensor(),\n",
        "        transforms.Normalize([0.5], [0.5])  # Normalizar el canal único\n",
        "    ]),\n",
        "    'val': transforms.Compose([\n",
        "        transforms.Grayscale(num_output_channels=1),  # Convertir a blanco y negro\n",
        "        transforms.Resize((240, 240)),\n",
        "        transforms.ToTensor(),\n",
        "        transforms.Normalize([0.5], [0.5])  # Normalizar el canal único\n",
        "    ]),\n",
        "}"
      ]
    },
    {
      "cell_type": "code",
      "execution_count": 29,
      "metadata": {
        "id": "TuYO1ejfEH-_"
      },
      "outputs": [],
      "source": [
        "# Define train and val directories\n",
        "train_dir = os.path.join(base_dir, 'train')\n",
        "val_dir = os.path.join(base_dir, 'val')\n",
        "\n",
        "# Create train and val directories if they don't exist\n",
        "os.makedirs(train_dir, exist_ok=True)\n",
        "os.makedirs(val_dir, exist_ok=True)"
      ]
    },
    {
      "cell_type": "code",
      "execution_count": 30,
      "metadata": {
        "colab": {
          "base_uri": "https://localhost:8080/"
        },
        "id": "s2ImBjB618Tj",
        "outputId": "be284368-dbca-4a18-8436-cd02ecfa1efe"
      },
      "outputs": [
        {
          "name": "stdout",
          "output_type": "stream",
          "text": [
            "\n",
            "Train Directory Structure:\n",
            "COVID-19_Radiography_Dataset/filtradas/train contains 0 files\n",
            "COVID-19_Radiography_Dataset/filtradas/train/Viral_Pneumonia contains 1076 files\n",
            "COVID-19_Radiography_Dataset/filtradas/train/Lung_Opacity contains 4809 files\n",
            "COVID-19_Radiography_Dataset/filtradas/train/Normal contains 8153 files\n",
            "COVID-19_Radiography_Dataset/filtradas/train/Covid contains 2892 files\n",
            "\n",
            "Validation Directory Structure:\n",
            "COVID-19_Radiography_Dataset/filtradas/val contains 0 files\n",
            "COVID-19_Radiography_Dataset/filtradas/val/Viral_Pneumonia contains 269 files\n",
            "COVID-19_Radiography_Dataset/filtradas/val/Lung_Opacity contains 1203 files\n",
            "COVID-19_Radiography_Dataset/filtradas/val/Normal contains 2039 files\n",
            "COVID-19_Radiography_Dataset/filtradas/val/Covid contains 724 files\n"
          ]
        }
      ],
      "source": [
        "# Check if train and val directories are already populated\n",
        "if not os.listdir(train_dir) or not os.listdir(val_dir):\n",
        "    # Copy data to the correct directories if not already done\n",
        "    for category in ['Viral_Pneumonia', 'Covid', 'Normal', 'Lung_Opacity']:\n",
        "        category_path = os.path.join(base_dir, category)\n",
        "        images = os.listdir(category_path)\n",
        "\n",
        "        # Ensure the category directories exist in train and val directories\n",
        "        train_category_dir = os.path.join(train_dir, category)\n",
        "        val_category_dir = os.path.join(val_dir, category)\n",
        "        os.makedirs(train_category_dir, exist_ok=True)\n",
        "        os.makedirs(val_category_dir, exist_ok=True)\n",
        "\n",
        "        train_images = images[:int(len(images) * 0.8)]\n",
        "        val_images = images[int(len(images) * 0.8):]\n",
        "\n",
        "        # Copy train images\n",
        "        for img in tqdm(train_images, desc=f\"Copying train images for {category}\"):\n",
        "            src_path = os.path.join(category_path, img)\n",
        "            dst_path = os.path.join(train_category_dir, img)\n",
        "            if not os.path.exists(dst_path):\n",
        "                shutil.copy(src_path, dst_path)\n",
        "\n",
        "        # Copy val images\n",
        "        for img in tqdm(val_images, desc=f\"Copying val images for {category}\"):\n",
        "            src_path = os.path.join(category_path, img)\n",
        "            dst_path = os.path.join(val_category_dir, img)\n",
        "            if not os.path.exists(dst_path):\n",
        "                shutil.copy(src_path, dst_path)\n",
        "\n",
        "# Verify the directory structure\n",
        "print(\"\\nTrain Directory Structure:\")\n",
        "for root, dirs, files in os.walk(train_dir):\n",
        "    print(root, \"contains\", len(files), \"files\")\n",
        "\n",
        "print(\"\\nValidation Directory Structure:\")\n",
        "for root, dirs, files in os.walk(val_dir):\n",
        "    print(root, \"contains\", len(files), \"files\")\n"
      ]
    },
    {
      "cell_type": "code",
      "execution_count": 31,
      "metadata": {
        "id": "DfUzy-egLzCy"
      },
      "outputs": [],
      "source": [
        "# Load datasets with data augmentation\n",
        "train_dataset = datasets.ImageFolder(train_dir, transform=data_transforms['train'])\n",
        "val_dataset = datasets.ImageFolder(val_dir, transform=data_transforms['val'])\n",
        "\n",
        "# Create dataloaders\n",
        "train_loader = DataLoader(train_dataset, batch_size=32, shuffle=True)\n",
        "val_loader = DataLoader(val_dataset, batch_size=32, shuffle=False) "
      ]
    },
    {
      "cell_type": "code",
      "execution_count": 34,
      "metadata": {
        "colab": {
          "base_uri": "https://localhost:8080/"
        },
        "id": "iFo8i65231mG",
        "outputId": "0715a7cd-3dd6-49ef-a625-292898730629"
      },
      "outputs": [
        {
          "name": "stdout",
          "output_type": "stream",
          "text": [
            "Loaded pretrained weights for efficientnet-b1\n"
          ]
        }
      ],
      "source": [
        "# Cambiar la primera capa para aceptar un solo canal\n",
        "model = EfficientNet.from_pretrained('efficientnet-b1')\n",
        "num_classes = len(train_dataset.classes)\n",
        "\n",
        "# Cambiar la primera capa para aceptar un solo canal\n",
        "model._conv_stem = nn.Conv2d(1, model._conv_stem.out_channels, \n",
        "                             kernel_size=model._conv_stem.kernel_size, \n",
        "                             stride=model._conv_stem.stride, \n",
        "                             padding=model._conv_stem.padding, \n",
        "                             bias=False)\n",
        "\n",
        "# Cambiar la última capa para el número de clases\n",
        "model._fc = nn.Linear(model._fc.in_features, num_classes)\n",
        "model = model.to(device)\n",
        "\n",
        "# Define loss function and optimizer\n",
        "criterion = nn.CrossEntropyLoss()\n",
        "optimizer = torch.optim.Adam(model.parameters(), lr=0.001)\n"
      ]
    },
    {
      "cell_type": "code",
      "execution_count": null,
      "metadata": {
        "colab": {
          "base_uri": "https://localhost:8080/"
        },
        "id": "xkkALduQvoZG",
        "outputId": "b3190d42-30cf-4642-ef93-5047a1581e65"
      },
      "outputs": [
        {
          "data": {
            "text/plain": [
              "[]"
            ]
          },
          "execution_count": 13,
          "metadata": {},
          "output_type": "execute_result"
        }
      ],
      "source": [
        "#wandb.watch(model, log=\"all\")"
      ]
    },
    {
      "cell_type": "code",
      "execution_count": 35,
      "metadata": {
        "id": "Gpa1uDp1vuur"
      },
      "outputs": [],
      "source": [
        "# Early Stopping parameters\n",
        "patience = 5\n",
        "best_val_loss = float('inf')\n",
        "epochs_no_improve = 0\n",
        "\n"
      ]
    },
    {
      "cell_type": "code",
      "execution_count": 36,
      "metadata": {},
      "outputs": [],
      "source": [
        "# Definir la ruta para guardar el modelo en Google Drive\n",
        "model_save_path = 'COVID-19_Radiography_Dataset/models/best_model.pth'\n",
        "optimizer_save_path = 'COVID-19_Radiography_Dataset/models/model_and_optimizer.pth'\n",
        "\n",
        "# Crear el directorio si no existe\n",
        "os.makedirs(os.path.dirname(model_save_path), exist_ok=True)"
      ]
    },
    {
      "cell_type": "code",
      "execution_count": 37,
      "metadata": {
        "id": "etM5gfUfqmhd"
      },
      "outputs": [],
      "source": [
        "def train_model(model, criterion, optimizer, train_loader, val_loader, device, num_epochs=50, patience=5):\n",
        "    global best_val_loss, epochs_no_improve\n",
        "\n",
        "    for epoch in range(num_epochs):\n",
        "        model.train()\n",
        "        running_loss = 0.0\n",
        "        correct = 0\n",
        "        total = 0\n",
        "\n",
        "        # Training phase with progress bar\n",
        "        train_progress = tqdm(train_loader, desc=f\"Epoch {epoch+1}/{num_epochs} - Training\", unit=\"batch\")\n",
        "        for inputs, labels in train_progress:\n",
        "            inputs, labels = inputs.to(device), labels.to(device)\n",
        "\n",
        "            optimizer.zero_grad()\n",
        "\n",
        "            outputs = model(inputs)\n",
        "            loss = criterion(outputs, labels)\n",
        "            loss.backward()\n",
        "            optimizer.step()\n",
        "\n",
        "            running_loss += loss.item() * inputs.size(0)\n",
        "            _, predicted = torch.max(outputs, 1)\n",
        "            total += labels.size(0)\n",
        "            correct += (predicted == labels).sum().item()\n",
        "\n",
        "            train_progress.set_postfix({\"Loss\": running_loss / total, \"Acc\": correct / total})\n",
        "\n",
        "        epoch_loss = running_loss / len(train_loader.dataset)\n",
        "        epoch_acc = correct / total\n",
        "\n",
        "        print(f'Epoch {epoch+1}/{num_epochs}')\n",
        "        print(f'Train Loss: {epoch_loss:.4f} Acc: {epoch_acc:.4f}')\n",
        "\n",
        "        # Log training metrics to W&B\n",
        "        #wandb.log({\"epoch\": epoch + 1, \"train_loss\": epoch_loss, \"train_accuracy\": epoch_acc})\n",
        "\n",
        "        model.eval()\n",
        "        val_loss = 0.0\n",
        "        val_correct = 0\n",
        "        val_total = 0\n",
        "\n",
        "        # Validation phase with progress bar\n",
        "        val_progress = tqdm(val_loader, desc=f\"Epoch {epoch+1}/{num_epochs} - Validation\", unit=\"batch\")\n",
        "        with torch.no_grad():\n",
        "            for inputs, labels in val_progress:\n",
        "                inputs, labels = inputs.to(device), labels.to(device)\n",
        "\n",
        "                outputs = model(inputs)\n",
        "                loss = criterion(outputs, labels)\n",
        "\n",
        "                val_loss += loss.item() * inputs.size(0)\n",
        "                _, predicted = torch.max(outputs, 1)\n",
        "                val_total += labels.size(0)\n",
        "                val_correct += (predicted == labels).sum().item()\n",
        "\n",
        "                val_progress.set_postfix({\"Loss\": val_loss / val_total, \"Acc\": val_correct / val_total})\n",
        "\n",
        "        val_loss = val_loss / len(val_loader.dataset)\n",
        "        val_acc = val_correct / val_total\n",
        "\n",
        "        print(f'Val Loss: {val_loss:.4f} Acc: {val_acc:.4f}')\n",
        "\n",
        "        # Log validation metrics to W&B\n",
        "        #wandb.log({\"epoch\": epoch + 1, \"val_loss\": val_loss, \"val_accuracy\": val_acc})\n",
        "\n",
        "        # Check for improvement\n",
        "        if val_loss < best_val_loss:\n",
        "            best_val_loss = val_loss\n",
        "            epochs_no_improve = 0\n",
        "            torch.save(model.state_dict(), model_save_path)  # Save the best model\n",
        "            torch.save({\n",
        "                'model_state_dict': model.state_dict(),\n",
        "                'optimizer_state_dict': optimizer.state_dict(),\n",
        "            }, optimizer_save_path)\n",
        "        else:\n",
        "            epochs_no_improve += 1\n",
        "\n",
        "        # Save the model after each epoch\n",
        "        torch.save(model.state_dict(), model_save_path)\n",
        "        torch.save({\n",
        "            'model_state_dict': model.state_dict(),\n",
        "            'optimizer_state_dict': optimizer.state_dict(),\n",
        "        }, optimizer_save_path)\n",
        "\n",
        "        if epochs_no_improve >= patience:\n",
        "            print(\"Early stopping triggered!\")\n",
        "            break\n",
        "\n",
        "    return model"
      ]
    },
    {
      "cell_type": "code",
      "execution_count": 38,
      "metadata": {
        "colab": {
          "base_uri": "https://localhost:8080/"
        },
        "id": "fy7hXKWK-Vez",
        "outputId": "19f7d911-6028-4c62-cc0c-42eef0bd1535"
      },
      "outputs": [
        {
          "name": "stderr",
          "output_type": "stream",
          "text": [
            "Epoch 1/20 - Training: 100%|██████████| 530/530 [2:34:43<00:00, 17.52s/batch, Loss=0.449, Acc=0.835]  \n"
          ]
        },
        {
          "name": "stdout",
          "output_type": "stream",
          "text": [
            "Epoch 1/20\n",
            "Train Loss: 0.4488 Acc: 0.8351\n"
          ]
        },
        {
          "name": "stderr",
          "output_type": "stream",
          "text": [
            "Epoch 1/20 - Validation: 100%|██████████| 133/133 [08:40<00:00,  3.91s/batch, Loss=0.352, Acc=0.868]\n"
          ]
        },
        {
          "name": "stdout",
          "output_type": "stream",
          "text": [
            "Val Loss: 0.3516 Acc: 0.8680\n"
          ]
        },
        {
          "name": "stderr",
          "output_type": "stream",
          "text": [
            "Epoch 2/20 - Training: 100%|██████████| 530/530 [2:49:34<00:00, 19.20s/batch, Loss=0.289, Acc=0.898]  \n"
          ]
        },
        {
          "name": "stdout",
          "output_type": "stream",
          "text": [
            "Epoch 2/20\n",
            "Train Loss: 0.2889 Acc: 0.8979\n"
          ]
        },
        {
          "name": "stderr",
          "output_type": "stream",
          "text": [
            "Epoch 2/20 - Validation: 100%|██████████| 133/133 [09:00<00:00,  4.07s/batch, Loss=0.28, Acc=0.905] \n"
          ]
        },
        {
          "name": "stdout",
          "output_type": "stream",
          "text": [
            "Val Loss: 0.2801 Acc: 0.9051\n"
          ]
        },
        {
          "name": "stderr",
          "output_type": "stream",
          "text": [
            "Epoch 3/20 - Training:  38%|███▊      | 200/530 [57:28<1:34:50, 17.24s/batch, Loss=0.271, Acc=0.905]\n"
          ]
        },
        {
          "ename": "KeyboardInterrupt",
          "evalue": "",
          "output_type": "error",
          "traceback": [
            "\u001b[0;31m---------------------------------------------------------------------------\u001b[0m",
            "\u001b[0;31mKeyboardInterrupt\u001b[0m                         Traceback (most recent call last)",
            "\u001b[1;32m/Users/daniellizano/Desktop/cnn/proyecto2.ipynb Cell 36\u001b[0m line \u001b[0;36m1\n\u001b[0;32m----> <a href='vscode-notebook-cell:/Users/daniellizano/Desktop/cnn/proyecto2.ipynb#X45sZmlsZQ%3D%3D?line=0'>1</a>\u001b[0m trained_model \u001b[39m=\u001b[39m train_model(model, criterion, optimizer, train_loader, val_loader, device, num_epochs\u001b[39m=\u001b[39;49m\u001b[39m20\u001b[39;49m, patience\u001b[39m=\u001b[39;49m\u001b[39m5\u001b[39;49m)\n",
            "\u001b[1;32m/Users/daniellizano/Desktop/cnn/proyecto2.ipynb Cell 36\u001b[0m line \u001b[0;36m1\n\u001b[1;32m     <a href='vscode-notebook-cell:/Users/daniellizano/Desktop/cnn/proyecto2.ipynb#X45sZmlsZQ%3D%3D?line=12'>13</a>\u001b[0m inputs, labels \u001b[39m=\u001b[39m inputs\u001b[39m.\u001b[39mto(device), labels\u001b[39m.\u001b[39mto(device)\n\u001b[1;32m     <a href='vscode-notebook-cell:/Users/daniellizano/Desktop/cnn/proyecto2.ipynb#X45sZmlsZQ%3D%3D?line=14'>15</a>\u001b[0m optimizer\u001b[39m.\u001b[39mzero_grad()\n\u001b[0;32m---> <a href='vscode-notebook-cell:/Users/daniellizano/Desktop/cnn/proyecto2.ipynb#X45sZmlsZQ%3D%3D?line=16'>17</a>\u001b[0m outputs \u001b[39m=\u001b[39m model(inputs)\n\u001b[1;32m     <a href='vscode-notebook-cell:/Users/daniellizano/Desktop/cnn/proyecto2.ipynb#X45sZmlsZQ%3D%3D?line=17'>18</a>\u001b[0m loss \u001b[39m=\u001b[39m criterion(outputs, labels)\n\u001b[1;32m     <a href='vscode-notebook-cell:/Users/daniellizano/Desktop/cnn/proyecto2.ipynb#X45sZmlsZQ%3D%3D?line=18'>19</a>\u001b[0m loss\u001b[39m.\u001b[39mbackward()\n",
            "File \u001b[0;32m~/Desktop/cnn/.venv/lib/python3.11/site-packages/torch/nn/modules/module.py:1532\u001b[0m, in \u001b[0;36mModule._wrapped_call_impl\u001b[0;34m(self, *args, **kwargs)\u001b[0m\n\u001b[1;32m   1530\u001b[0m     \u001b[39mreturn\u001b[39;00m \u001b[39mself\u001b[39m\u001b[39m.\u001b[39m_compiled_call_impl(\u001b[39m*\u001b[39margs, \u001b[39m*\u001b[39m\u001b[39m*\u001b[39mkwargs)  \u001b[39m# type: ignore[misc]\u001b[39;00m\n\u001b[1;32m   1531\u001b[0m \u001b[39melse\u001b[39;00m:\n\u001b[0;32m-> 1532\u001b[0m     \u001b[39mreturn\u001b[39;00m \u001b[39mself\u001b[39;49m\u001b[39m.\u001b[39;49m_call_impl(\u001b[39m*\u001b[39;49margs, \u001b[39m*\u001b[39;49m\u001b[39m*\u001b[39;49mkwargs)\n",
            "File \u001b[0;32m~/Desktop/cnn/.venv/lib/python3.11/site-packages/torch/nn/modules/module.py:1541\u001b[0m, in \u001b[0;36mModule._call_impl\u001b[0;34m(self, *args, **kwargs)\u001b[0m\n\u001b[1;32m   1536\u001b[0m \u001b[39m# If we don't have any hooks, we want to skip the rest of the logic in\u001b[39;00m\n\u001b[1;32m   1537\u001b[0m \u001b[39m# this function, and just call forward.\u001b[39;00m\n\u001b[1;32m   1538\u001b[0m \u001b[39mif\u001b[39;00m \u001b[39mnot\u001b[39;00m (\u001b[39mself\u001b[39m\u001b[39m.\u001b[39m_backward_hooks \u001b[39mor\u001b[39;00m \u001b[39mself\u001b[39m\u001b[39m.\u001b[39m_backward_pre_hooks \u001b[39mor\u001b[39;00m \u001b[39mself\u001b[39m\u001b[39m.\u001b[39m_forward_hooks \u001b[39mor\u001b[39;00m \u001b[39mself\u001b[39m\u001b[39m.\u001b[39m_forward_pre_hooks\n\u001b[1;32m   1539\u001b[0m         \u001b[39mor\u001b[39;00m _global_backward_pre_hooks \u001b[39mor\u001b[39;00m _global_backward_hooks\n\u001b[1;32m   1540\u001b[0m         \u001b[39mor\u001b[39;00m _global_forward_hooks \u001b[39mor\u001b[39;00m _global_forward_pre_hooks):\n\u001b[0;32m-> 1541\u001b[0m     \u001b[39mreturn\u001b[39;00m forward_call(\u001b[39m*\u001b[39;49margs, \u001b[39m*\u001b[39;49m\u001b[39m*\u001b[39;49mkwargs)\n\u001b[1;32m   1543\u001b[0m \u001b[39mtry\u001b[39;00m:\n\u001b[1;32m   1544\u001b[0m     result \u001b[39m=\u001b[39m \u001b[39mNone\u001b[39;00m\n",
            "File \u001b[0;32m~/Desktop/cnn/.venv/lib/python3.11/site-packages/efficientnet_pytorch/model.py:314\u001b[0m, in \u001b[0;36mEfficientNet.forward\u001b[0;34m(self, inputs)\u001b[0m\n\u001b[1;32m    304\u001b[0m \u001b[39m\u001b[39m\u001b[39m\"\"\"EfficientNet's forward function.\u001b[39;00m\n\u001b[1;32m    305\u001b[0m \u001b[39m   Calls extract_features to extract features, applies final linear layer, and returns logits.\u001b[39;00m\n\u001b[1;32m    306\u001b[0m \n\u001b[0;32m   (...)\u001b[0m\n\u001b[1;32m    311\u001b[0m \u001b[39m    Output of this model after processing.\u001b[39;00m\n\u001b[1;32m    312\u001b[0m \u001b[39m\"\"\"\u001b[39;00m\n\u001b[1;32m    313\u001b[0m \u001b[39m# Convolution layers\u001b[39;00m\n\u001b[0;32m--> 314\u001b[0m x \u001b[39m=\u001b[39m \u001b[39mself\u001b[39;49m\u001b[39m.\u001b[39;49mextract_features(inputs)\n\u001b[1;32m    315\u001b[0m \u001b[39m# Pooling and final linear layer\u001b[39;00m\n\u001b[1;32m    316\u001b[0m x \u001b[39m=\u001b[39m \u001b[39mself\u001b[39m\u001b[39m.\u001b[39m_avg_pooling(x)\n",
            "File \u001b[0;32m~/Desktop/cnn/.venv/lib/python3.11/site-packages/efficientnet_pytorch/model.py:296\u001b[0m, in \u001b[0;36mEfficientNet.extract_features\u001b[0;34m(self, inputs)\u001b[0m\n\u001b[1;32m    294\u001b[0m     \u001b[39mif\u001b[39;00m drop_connect_rate:\n\u001b[1;32m    295\u001b[0m         drop_connect_rate \u001b[39m*\u001b[39m\u001b[39m=\u001b[39m \u001b[39mfloat\u001b[39m(idx) \u001b[39m/\u001b[39m \u001b[39mlen\u001b[39m(\u001b[39mself\u001b[39m\u001b[39m.\u001b[39m_blocks)  \u001b[39m# scale drop connect_rate\u001b[39;00m\n\u001b[0;32m--> 296\u001b[0m     x \u001b[39m=\u001b[39m block(x, drop_connect_rate\u001b[39m=\u001b[39;49mdrop_connect_rate)\n\u001b[1;32m    298\u001b[0m \u001b[39m# Head\u001b[39;00m\n\u001b[1;32m    299\u001b[0m x \u001b[39m=\u001b[39m \u001b[39mself\u001b[39m\u001b[39m.\u001b[39m_swish(\u001b[39mself\u001b[39m\u001b[39m.\u001b[39m_bn1(\u001b[39mself\u001b[39m\u001b[39m.\u001b[39m_conv_head(x)))\n",
            "File \u001b[0;32m~/Desktop/cnn/.venv/lib/python3.11/site-packages/torch/nn/modules/module.py:1532\u001b[0m, in \u001b[0;36mModule._wrapped_call_impl\u001b[0;34m(self, *args, **kwargs)\u001b[0m\n\u001b[1;32m   1530\u001b[0m     \u001b[39mreturn\u001b[39;00m \u001b[39mself\u001b[39m\u001b[39m.\u001b[39m_compiled_call_impl(\u001b[39m*\u001b[39margs, \u001b[39m*\u001b[39m\u001b[39m*\u001b[39mkwargs)  \u001b[39m# type: ignore[misc]\u001b[39;00m\n\u001b[1;32m   1531\u001b[0m \u001b[39melse\u001b[39;00m:\n\u001b[0;32m-> 1532\u001b[0m     \u001b[39mreturn\u001b[39;00m \u001b[39mself\u001b[39;49m\u001b[39m.\u001b[39;49m_call_impl(\u001b[39m*\u001b[39;49margs, \u001b[39m*\u001b[39;49m\u001b[39m*\u001b[39;49mkwargs)\n",
            "File \u001b[0;32m~/Desktop/cnn/.venv/lib/python3.11/site-packages/torch/nn/modules/module.py:1541\u001b[0m, in \u001b[0;36mModule._call_impl\u001b[0;34m(self, *args, **kwargs)\u001b[0m\n\u001b[1;32m   1536\u001b[0m \u001b[39m# If we don't have any hooks, we want to skip the rest of the logic in\u001b[39;00m\n\u001b[1;32m   1537\u001b[0m \u001b[39m# this function, and just call forward.\u001b[39;00m\n\u001b[1;32m   1538\u001b[0m \u001b[39mif\u001b[39;00m \u001b[39mnot\u001b[39;00m (\u001b[39mself\u001b[39m\u001b[39m.\u001b[39m_backward_hooks \u001b[39mor\u001b[39;00m \u001b[39mself\u001b[39m\u001b[39m.\u001b[39m_backward_pre_hooks \u001b[39mor\u001b[39;00m \u001b[39mself\u001b[39m\u001b[39m.\u001b[39m_forward_hooks \u001b[39mor\u001b[39;00m \u001b[39mself\u001b[39m\u001b[39m.\u001b[39m_forward_pre_hooks\n\u001b[1;32m   1539\u001b[0m         \u001b[39mor\u001b[39;00m _global_backward_pre_hooks \u001b[39mor\u001b[39;00m _global_backward_hooks\n\u001b[1;32m   1540\u001b[0m         \u001b[39mor\u001b[39;00m _global_forward_hooks \u001b[39mor\u001b[39;00m _global_forward_pre_hooks):\n\u001b[0;32m-> 1541\u001b[0m     \u001b[39mreturn\u001b[39;00m forward_call(\u001b[39m*\u001b[39;49margs, \u001b[39m*\u001b[39;49m\u001b[39m*\u001b[39;49mkwargs)\n\u001b[1;32m   1543\u001b[0m \u001b[39mtry\u001b[39;00m:\n\u001b[1;32m   1544\u001b[0m     result \u001b[39m=\u001b[39m \u001b[39mNone\u001b[39;00m\n",
            "File \u001b[0;32m~/Desktop/cnn/.venv/lib/python3.11/site-packages/efficientnet_pytorch/model.py:109\u001b[0m, in \u001b[0;36mMBConvBlock.forward\u001b[0;34m(self, inputs, drop_connect_rate)\u001b[0m\n\u001b[1;32m    106\u001b[0m     x \u001b[39m=\u001b[39m \u001b[39mself\u001b[39m\u001b[39m.\u001b[39m_bn0(x)\n\u001b[1;32m    107\u001b[0m     x \u001b[39m=\u001b[39m \u001b[39mself\u001b[39m\u001b[39m.\u001b[39m_swish(x)\n\u001b[0;32m--> 109\u001b[0m x \u001b[39m=\u001b[39m \u001b[39mself\u001b[39;49m\u001b[39m.\u001b[39;49m_depthwise_conv(x)\n\u001b[1;32m    110\u001b[0m x \u001b[39m=\u001b[39m \u001b[39mself\u001b[39m\u001b[39m.\u001b[39m_bn1(x)\n\u001b[1;32m    111\u001b[0m x \u001b[39m=\u001b[39m \u001b[39mself\u001b[39m\u001b[39m.\u001b[39m_swish(x)\n",
            "File \u001b[0;32m~/Desktop/cnn/.venv/lib/python3.11/site-packages/torch/nn/modules/module.py:1532\u001b[0m, in \u001b[0;36mModule._wrapped_call_impl\u001b[0;34m(self, *args, **kwargs)\u001b[0m\n\u001b[1;32m   1530\u001b[0m     \u001b[39mreturn\u001b[39;00m \u001b[39mself\u001b[39m\u001b[39m.\u001b[39m_compiled_call_impl(\u001b[39m*\u001b[39margs, \u001b[39m*\u001b[39m\u001b[39m*\u001b[39mkwargs)  \u001b[39m# type: ignore[misc]\u001b[39;00m\n\u001b[1;32m   1531\u001b[0m \u001b[39melse\u001b[39;00m:\n\u001b[0;32m-> 1532\u001b[0m     \u001b[39mreturn\u001b[39;00m \u001b[39mself\u001b[39;49m\u001b[39m.\u001b[39;49m_call_impl(\u001b[39m*\u001b[39;49margs, \u001b[39m*\u001b[39;49m\u001b[39m*\u001b[39;49mkwargs)\n",
            "File \u001b[0;32m~/Desktop/cnn/.venv/lib/python3.11/site-packages/torch/nn/modules/module.py:1541\u001b[0m, in \u001b[0;36mModule._call_impl\u001b[0;34m(self, *args, **kwargs)\u001b[0m\n\u001b[1;32m   1536\u001b[0m \u001b[39m# If we don't have any hooks, we want to skip the rest of the logic in\u001b[39;00m\n\u001b[1;32m   1537\u001b[0m \u001b[39m# this function, and just call forward.\u001b[39;00m\n\u001b[1;32m   1538\u001b[0m \u001b[39mif\u001b[39;00m \u001b[39mnot\u001b[39;00m (\u001b[39mself\u001b[39m\u001b[39m.\u001b[39m_backward_hooks \u001b[39mor\u001b[39;00m \u001b[39mself\u001b[39m\u001b[39m.\u001b[39m_backward_pre_hooks \u001b[39mor\u001b[39;00m \u001b[39mself\u001b[39m\u001b[39m.\u001b[39m_forward_hooks \u001b[39mor\u001b[39;00m \u001b[39mself\u001b[39m\u001b[39m.\u001b[39m_forward_pre_hooks\n\u001b[1;32m   1539\u001b[0m         \u001b[39mor\u001b[39;00m _global_backward_pre_hooks \u001b[39mor\u001b[39;00m _global_backward_hooks\n\u001b[1;32m   1540\u001b[0m         \u001b[39mor\u001b[39;00m _global_forward_hooks \u001b[39mor\u001b[39;00m _global_forward_pre_hooks):\n\u001b[0;32m-> 1541\u001b[0m     \u001b[39mreturn\u001b[39;00m forward_call(\u001b[39m*\u001b[39;49margs, \u001b[39m*\u001b[39;49m\u001b[39m*\u001b[39;49mkwargs)\n\u001b[1;32m   1543\u001b[0m \u001b[39mtry\u001b[39;00m:\n\u001b[1;32m   1544\u001b[0m     result \u001b[39m=\u001b[39m \u001b[39mNone\u001b[39;00m\n",
            "File \u001b[0;32m~/Desktop/cnn/.venv/lib/python3.11/site-packages/efficientnet_pytorch/utils.py:275\u001b[0m, in \u001b[0;36mConv2dStaticSamePadding.forward\u001b[0;34m(self, x)\u001b[0m\n\u001b[1;32m    273\u001b[0m \u001b[39mdef\u001b[39;00m \u001b[39mforward\u001b[39m(\u001b[39mself\u001b[39m, x):\n\u001b[1;32m    274\u001b[0m     x \u001b[39m=\u001b[39m \u001b[39mself\u001b[39m\u001b[39m.\u001b[39mstatic_padding(x)\n\u001b[0;32m--> 275\u001b[0m     x \u001b[39m=\u001b[39m F\u001b[39m.\u001b[39;49mconv2d(x, \u001b[39mself\u001b[39;49m\u001b[39m.\u001b[39;49mweight, \u001b[39mself\u001b[39;49m\u001b[39m.\u001b[39;49mbias, \u001b[39mself\u001b[39;49m\u001b[39m.\u001b[39;49mstride, \u001b[39mself\u001b[39;49m\u001b[39m.\u001b[39;49mpadding, \u001b[39mself\u001b[39;49m\u001b[39m.\u001b[39;49mdilation, \u001b[39mself\u001b[39;49m\u001b[39m.\u001b[39;49mgroups)\n\u001b[1;32m    276\u001b[0m     \u001b[39mreturn\u001b[39;00m x\n",
            "\u001b[0;31mKeyboardInterrupt\u001b[0m: "
          ]
        }
      ],
      "source": [
        "trained_model = train_model(model, criterion, optimizer, train_loader, val_loader, device, num_epochs=20, patience=5)\n"
      ]
    },
    {
      "cell_type": "code",
      "execution_count": null,
      "metadata": {
        "colab": {
          "base_uri": "https://localhost:8080/"
        },
        "id": "T0QEav3lyZ8H",
        "outputId": "6b7ad043-f1e4-4900-fbe4-672b2a7978bd"
      },
      "outputs": [
        {
          "data": {
            "text/plain": [
              "<All keys matched successfully>"
            ]
          },
          "execution_count": 15,
          "metadata": {},
          "output_type": "execute_result"
        }
      ],
      "source": [
        "# Load the best model for evaluation\n",
        "model_load_path = 'COVID-19_Radiography_Dataset/models/best_model.pth'\n",
        "model.load_state_dict(torch.load(model_load_path))"
      ]
    },
    {
      "cell_type": "code",
      "execution_count": null,
      "metadata": {
        "id": "WExVHng-_XEV"
      },
      "outputs": [],
      "source": [
        "\n",
        "def evaluate_model(model, dataloader, device):\n",
        "    model.eval()\n",
        "    correct = 0\n",
        "    total = 0\n",
        "\n",
        "    with torch.no_grad():  \n",
        "        for inputs, labels in dataloader:\n",
        "            inputs, labels = inputs.to(device), labels.to(device)\n",
        "\n",
        "            outputs = model(inputs)\n",
        "            _, predicted = torch.max(outputs, 1)\n",
        "            total += labels.size(0)\n",
        "            correct += (predicted == labels).sum().item()\n",
        "\n",
        "    accuracy = correct / total\n",
        "    print(f'Accuracy: {accuracy:.4f}')\n",
        "    return accuracy"
      ]
    },
    {
      "cell_type": "code",
      "execution_count": null,
      "metadata": {
        "colab": {
          "base_uri": "https://localhost:8080/",
          "height": 139
        },
        "id": "nQ7F8oNqq2h7",
        "outputId": "44436b1a-5d0d-4afe-d473-e373d6f16b91"
      },
      "outputs": [
        {
          "ename": "NameError",
          "evalue": "name 'trained_model' is not defined",
          "output_type": "error",
          "traceback": [
            "\u001b[0;31m---------------------------------------------------------------------------\u001b[0m",
            "\u001b[0;31mNameError\u001b[0m                                 Traceback (most recent call last)",
            "\u001b[0;32m<ipython-input-17-02ccc0d3fc74>\u001b[0m in \u001b[0;36m<cell line: 1>\u001b[0;34m()\u001b[0m\n\u001b[0;32m----> 1\u001b[0;31m \u001b[0mval_accuracy\u001b[0m \u001b[0;34m=\u001b[0m \u001b[0mevaluate_model\u001b[0m\u001b[0;34m(\u001b[0m\u001b[0mtrained_model\u001b[0m\u001b[0;34m,\u001b[0m \u001b[0mval_loader\u001b[0m\u001b[0;34m,\u001b[0m \u001b[0mdevice\u001b[0m\u001b[0;34m)\u001b[0m\u001b[0;34m\u001b[0m\u001b[0;34m\u001b[0m\u001b[0m\n\u001b[0m",
            "\u001b[0;31mNameError\u001b[0m: name 'trained_model' is not defined"
          ]
        }
      ],
      "source": [
        "val_accuracy = evaluate_model(trained_model, val_loader, device)\n"
      ]
    }
  ],
  "metadata": {
    "accelerator": "GPU",
    "colab": {
      "gpuType": "T4",
      "machine_shape": "hm",
      "provenance": []
    },
    "kernelspec": {
      "display_name": "Python 3",
      "name": "python3"
    },
    "language_info": {
      "codemirror_mode": {
        "name": "ipython",
        "version": 3
      },
      "file_extension": ".py",
      "mimetype": "text/x-python",
      "name": "python",
      "nbconvert_exporter": "python",
      "pygments_lexer": "ipython3",
      "version": "3.11.7"
    }
  },
  "nbformat": 4,
  "nbformat_minor": 0
}
