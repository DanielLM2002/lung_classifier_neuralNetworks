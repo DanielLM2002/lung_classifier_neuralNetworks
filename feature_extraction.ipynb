{
  "cells": [
    {
      "cell_type": "code",
      "execution_count": 10,
      "metadata": {
        "id": "p1e1HL_-XIbY"
      },
      "outputs": [],
      "source": [
        "import cv2\n",
        "import concurrent.futures\n",
        "import os\n",
        "import time\n",
        "from skimage.feature import local_binary_pattern\n",
        "import shutil"
      ]
    },
    {
      "cell_type": "code",
      "execution_count": 11,
      "metadata": {
        "id": "RiT50_aPX4q-"
      },
      "outputs": [],
      "source": [
        "classes = ['COVID', 'Lung_Opacity', 'Normal', 'Viral_Pneumonia']\n",
        "root_dir = 'COVID-19_Radiography_Dataset'\n",
        "train_dirs = {}\n",
        "val_dirs = {}"
      ]
    },
    {
      "cell_type": "code",
      "execution_count": 12,
      "metadata": {
        "id": "t_TxQR-GcC-z"
      },
      "outputs": [],
      "source": [
        "lbp_dir = os.path.join(root_dir, 'lbp')\n",
        "os.makedirs(lbp_dir, exist_ok=True)\n",
        "\n",
        "for category in classes: \n",
        "    os.makedirs(os.path.join(lbp_dir, category), exist_ok=True)"
      ]
    },
    {
      "cell_type": "code",
      "execution_count": 13,
      "metadata": {
        "id": "SiDoJu7gyO-g"
      },
      "outputs": [],
      "source": [
        "train_dir = os.path.join(lbp_dir, 'train')\n",
        "val_dir = os.path.join(lbp_dir, 'val')\n",
        "\n",
        "os.makedirs(train_dir, exist_ok=True)\n",
        "os.makedirs(val_dir, exist_ok=True)\n",
        "\n",
        "for index, folder in enumerate([train_dir, val_dir]):\n",
        "    for category in classes:\n",
        "        category_dir = os.path.join(folder, category)\n",
        "        os.makedirs(category_dir, exist_ok=True)\n",
        "        if index < 1:\n",
        "            train_dirs[category] = category_dir\n",
        "        else:\n",
        "            val_dirs[category] = category_dir"
      ]
    },
    {
      "cell_type": "code",
      "execution_count": 14,
      "metadata": {
        "id": "GJCicetxf5mp"
      },
      "outputs": [],
      "source": [
        "def apply_lbp(image, points=8, radius=1, method='default'):\n",
        "  gray_image = cv2.cvtColor(image, cv2.COLOR_BGR2GRAY)\n",
        "  lbp_image = local_binary_pattern(gray_image, points, radius, method=method)\n",
        "  return lbp_image\n",
        "\n",
        "\n",
        "def filter_images(classname):\n",
        "  img_dir = os.path.join(root_dir, classname, 'images')\n",
        "  start_time = time.time()\n",
        "  for image_name in os.listdir(img_dir):\n",
        "    image = cv2.imread(os.path.join(img_dir, image_name))\n",
        "    filtered_image = apply_lbp(image, method='default')\n",
        "    cv2.imwrite(os.path.join(lbp_dir, classname, image_name), filtered_image)\n",
        "  end_time = time.time()\n",
        "  print(f'Done with {classname} original images ({(end_time - start_time):.6f}s)')"
      ]
    },
    {
      "cell_type": "code",
      "execution_count": 15,
      "metadata": {
        "colab": {
          "base_uri": "https://localhost:8080/",
          "height": 1000
        },
        "collapsed": true,
        "id": "B38EW8acqD_g",
        "outputId": "8ce1ae64-9782-4766-b2bd-28b3a059ebce"
      },
      "outputs": [
        {
          "name": "stdout",
          "output_type": "stream",
          "text": [
            "Done with Viral_Pneumonia original images (62.980737s)\n",
            "Done with COVID original images (131.896770s)\n",
            "Done with Lung_Opacity original images (202.420816s)\n",
            "Done with Normal original images (309.140007s)\n"
          ]
        }
      ],
      "source": [
        "with concurrent.futures.ThreadPoolExecutor(max_workers=4) as executor:\n",
        "  # Use starmap to unpack arguments for filter_image function\n",
        "  result = executor.map(filter_images, classes)"
      ]
    },
    {
      "cell_type": "code",
      "execution_count": 16,
      "metadata": {
        "colab": {
          "base_uri": "https://localhost:8080/"
        },
        "id": "nludD6BHzDjh",
        "outputId": "0e440321-ca46-4599-b152-57a9d3f09afb"
      },
      "outputs": [],
      "source": [
        "def move_data(category):\n",
        "    category_path = os.path.join(root_dir, 'lbp', category)\n",
        "    images = os.listdir(category_path)\n",
        "\n",
        "    # Ensure the category directories exist in train and val directories\n",
        "    train_category_dir = train_dirs[category]\n",
        "    val_category_dir = val_dirs[category]\n",
        "    os.makedirs(train_category_dir, exist_ok=True)\n",
        "    os.makedirs(val_category_dir, exist_ok=True)\n",
        "\n",
        "    train_images = images[:int(len(images) * 0.8)]\n",
        "    val_images = images[int(len(images) * 0.8):]\n",
        "\n",
        "    # Copy train images\n",
        "    start_time = time.time()\n",
        "    for img in train_images:\n",
        "        src_path = os.path.join(category_path, img)\n",
        "        dst_path = os.path.join(train_category_dir, img)\n",
        "        if not os.path.exists(dst_path):\n",
        "            shutil.move(src_path, dst_path)\n",
        "    end_time = time.time()\n",
        "    print(f'Done with {category} train data ({(end_time - start_time):.6f}s)')\n",
        "\n",
        "    # Copy val images\n",
        "    start_time = time.time()\n",
        "    for img in val_images:\n",
        "        src_path = os.path.join(category_path, img)\n",
        "        dst_path = os.path.join(val_category_dir, img)\n",
        "        if not os.path.exists(dst_path):\n",
        "            shutil.move(src_path, dst_path)\n",
        "    end_time = time.time()\n",
        "    print(f'Done with {category} val data ({(end_time - start_time):.6f}s)')"
      ]
    },
    {
      "cell_type": "code",
      "execution_count": 17,
      "metadata": {},
      "outputs": [
        {
          "name": "stdout",
          "output_type": "stream",
          "text": [
            "Done with Viral_Pneumonia train data (1.937483s)\n",
            "Done with Viral_Pneumonia val data (0.445350s)\n",
            "Done with COVID train data (5.225930s)\n",
            "Done with COVID val data (1.197302s)\n",
            "Done with Lung_Opacity train data (8.880729s)\n",
            "Done with Lung_Opacity val data (2.102913s)\n",
            "Done with Normal train data (14.258892s)\n",
            "Done with Normal val data (2.742465s)\n"
          ]
        }
      ],
      "source": [
        "with concurrent.futures.ThreadPoolExecutor(max_workers=4) as executor:\n",
        "  # Use starmap to unpack arguments for filter_image function\n",
        "  result = executor.map(move_data, classes)"
      ]
    }
  ],
  "metadata": {
    "colab": {
      "machine_shape": "hm",
      "provenance": []
    },
    "kernelspec": {
      "display_name": "Python 3",
      "name": "python3"
    },
    "language_info": {
      "codemirror_mode": {
        "name": "ipython",
        "version": 3
      },
      "file_extension": ".py",
      "mimetype": "text/x-python",
      "name": "python",
      "nbconvert_exporter": "python",
      "pygments_lexer": "ipython3",
      "version": "3.11.2"
    }
  },
  "nbformat": 4,
  "nbformat_minor": 0
}
