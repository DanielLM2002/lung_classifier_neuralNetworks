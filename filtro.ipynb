{
 "cells": [
  {
   "cell_type": "code",
   "execution_count": null,
   "metadata": {},
   "outputs": [],
   "source": [
    "import os\n",
    "import cv2"
   ]
  },
  {
   "cell_type": "code",
   "execution_count": null,
   "metadata": {},
   "outputs": [],
   "source": [
    "input_dir = 'COVID-19_Radiography_Dataset/Covid-19/viral pneumonia/'\n",
    "output_dir = 'COVID-19_Radiography_Dataset/Processed/viral pneumonia/'"
   ]
  },
  {
   "cell_type": "code",
   "execution_count": null,
   "metadata": {},
   "outputs": [],
   "source": [
    "def process_image(file_path, output_path):\n",
    "    img = cv2.imread(file_path, cv2.IMREAD_GRAYSCALE)\n",
    "    bilateral_filtered_image = cv2.bilateralFilter(img, d=9, sigmaColor=75, sigmaSpace=75)\n",
    "    cv2.imwrite(output_path, bilateral_filtered_image)\n",
    "for root, dirs, files in os.walk(input_dir):\n",
    "    for file in files:\n",
    "        if file.endswith(\".png\") or file.endswith(\".jpg\"): \n",
    "            file_path = os.path.join(root, file)\n",
    "            output_path = os.path.join(output_dir, file)\n",
    "            process_image(file_path, output_path)\n",
    "print(\"Processing complete for 'viral pneumonia' subfolder.\")"
   ]
  }
 ],
 "metadata": {
  "language_info": {
   "name": "python"
  },
  "orig_nbformat": 4
 },
 "nbformat": 4,
 "nbformat_minor": 2
}
